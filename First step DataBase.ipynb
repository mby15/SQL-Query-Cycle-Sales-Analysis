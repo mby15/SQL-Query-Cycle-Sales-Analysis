{
 "cells": [
  {
   "cell_type": "markdown",
   "metadata": {},
   "source": [
    "# En Github hago un Fork del repositorio y lo enlazo a VS Code"
   ]
  },
  {
   "cell_type": "code",
   "execution_count": 13,
   "metadata": {},
   "outputs": [],
   "source": [
    "# Importar las bibliotecas necesarias\n",
    "import pandas as pd  # Para manejar archivos CSV y bases de datos\n",
    "import sqlite3  # Para interactuar con SQLite\n",
    "import os  # Para comprobar la existencia de archivos"
   ]
  },
  {
   "cell_type": "code",
   "execution_count": null,
   "metadata": {},
   "outputs": [
    {
     "name": "stdout",
     "output_type": "stream",
     "text": [
      "Archivo customers_csv.csv contiene 1360 registros.\n",
      "Archivo dim_geography.csv contiene 654 registros.\n",
      "Archivo dim_product.csv contiene 397 registros.\n",
      "Archivo dim_territory.csv contiene 11 registros.\n",
      "Archivo fact_sales.csv contiene 5954 registros.\n"
     ]
    }
   ],
   "source": [
    "import pandas as pd\n",
    "\n",
    "# Lista de archivos CSV en el proyecto\n",
    "csv_files = [\n",
    "    \"customers_csv.csv\",\n",
    "    \"dim_geography.csv\",\n",
    "    \"dim_product.csv\",\n",
    "    \"dim_territory.csv\",\n",
    "    \"fact_sales.csv\"\n",
    "]\n",
    "\n",
    "# Recuento de filas por cada CSV\n",
    "for csv_file in csv_files:\n",
    "    # Cargar el CSV en un DataFrame\n",
    "    df = pd.read_csv(csv_file)\n",
    "    # Contar el número de registros (filas)\n",
    "    num_registros = len(df)\n",
    "    print(f\"Archivo {csv_file} contiene {num_registros} registros.\")\n"
   ]
  },
  {
   "cell_type": "markdown",
   "metadata": {},
   "source": [
    "## Comprobar tipo de datos y formato"
   ]
  },
  {
   "cell_type": "code",
   "execution_count": 17,
   "metadata": {},
   "outputs": [
    {
     "name": "stdout",
     "output_type": "stream",
     "text": [
      "\n",
      "🔹 Análisis del archivo: customers_csv.csv\n",
      "\n",
      "+-------------------+-------------------+------------+--------------+\n",
      "|                   |      Columna      |  Ejemplo   | Tipo de Dato |\n",
      "+-------------------+-------------------+------------+--------------+\n",
      "|    customer_id    |    customer_id    |   11000    |    int64     |\n",
      "|   geography_id    |   geography_id    |     26     |    int64     |\n",
      "|     birthdate     |     birthdate     | 08/04/1986 |    object    |\n",
      "|   maritalstatus   |   maritalstatus   |     M      |    object    |\n",
      "|      gender       |      gender       |     M      |    object    |\n",
      "| datefirstpurchase | datefirstpurchase | 22/07/2016 |    object    |\n",
      "+-------------------+-------------------+------------+--------------+\n",
      "--------------------------------------------------\n",
      "\n",
      "🔹 Análisis del archivo: dim_geography.csv\n",
      "\n",
      "+-----------------------------+-----------------------------+-----------------+--------------+\n",
      "|                             |           Columna           |     Ejemplo     | Tipo de Dato |\n",
      "+-----------------------------+-----------------------------+-----------------+--------------+\n",
      "|        geography_id         |        geography_id         |        2        |    int64     |\n",
      "|            city             |            city             |  Coffs Harbour  |    object    |\n",
      "|     state_province_code     |     state_province_code     |       NSW       |    object    |\n",
      "|     state_province_name     |     state_province_name     | New South Wales |    object    |\n",
      "|     country_region_code     |     country_region_code     |       AU        |    object    |\n",
      "| english_country_region_name | english_country_region_name |    Australia    |    object    |\n",
      "|         postal_code         |         postal_code         |      2450       |    object    |\n",
      "+-----------------------------+-----------------------------+-----------------+--------------+\n",
      "--------------------------------------------------\n",
      "\n",
      "🔹 Análisis del archivo: dim_product.csv\n",
      "\n",
      "+--------------+--------------+---------------------------+--------------+\n",
      "|              |   Columna    |          Ejemplo          | Tipo de Dato |\n",
      "+--------------+--------------+---------------------------+--------------+\n",
      "|  product_id  |  product_id  |            210            |    int64     |\n",
      "| product_name | product_name | HL Road Frame - Black, 58 |    object    |\n",
      "|  model_name  |  model_name  |       HL Road Frame       |    object    |\n",
      "|    color     |    color     |           Black           |    object    |\n",
      "|  size_range  |  size_range  |         54-58 CM          |    object    |\n",
      "|     cost     |     cost     |          11000.0          |   float64    |\n",
      "| normal_price | normal_price |          11000.0          |   float64    |\n",
      "| sub_category | sub_category |        Road Frames        |    object    |\n",
      "|   category   |   category   |        Components         |    object    |\n",
      "+--------------+--------------+---------------------------+--------------+\n",
      "--------------------------------------------------\n",
      "\n",
      "🔹 Análisis del archivo: dim_territory.csv\n",
      "\n",
      "+--------------+--------------+---------------+--------------+\n",
      "|              |   Columna    |    Ejemplo    | Tipo de Dato |\n",
      "+--------------+--------------+---------------+--------------+\n",
      "| territory_id | territory_id |       1       |    int64     |\n",
      "|    region    |    region    |   Northwest   |    object    |\n",
      "|   country    |   country    | United States |    object    |\n",
      "|    groups    |    groups    | North America |    object    |\n",
      "+--------------+--------------+---------------+--------------+\n",
      "--------------------------------------------------\n",
      "\n",
      "🔹 Análisis del archivo: fact_sales.csv\n",
      "\n",
      "+-------------------------+-------------------------+------------+--------------+\n",
      "|                         |         Columna         |  Ejemplo   | Tipo de Dato |\n",
      "+-------------------------+-------------------------+------------+--------------+\n",
      "|     order_detail_id     |     order_detail_id     | SO43698-1  |    object    |\n",
      "|       order_date        |       order_date        | 2016-07-01 |    object    |\n",
      "|       product_id        |       product_id        |    346     |    int64     |\n",
      "|       customer_id       |       customer_id       |  28389.0   |   float64    |\n",
      "|      territory_id       |      territory_id       |     7      |    int64     |\n",
      "|   sales_order_number    |   sales_order_number    |  SO43698   |    object    |\n",
      "| sales_order_line_number | sales_order_line_number |     1      |    int64     |\n",
      "|        quantity         |        quantity         |     1      |    int64     |\n",
      "|    unitprice_rupiah     |    unitprice_rupiah     | 47599860.0 |   float64    |\n",
      "|    totalprice_rupiah    |    totalprice_rupiah    | 47599860.0 |   float64    |\n",
      "|    totalcost_rupiah     |    totalcost_rupiah     | 26770161.6 |   float64    |\n",
      "|  shippingprice_rupiah   |  shippingprice_rupiah   | 1189997.2  |   float64    |\n",
      "+-------------------------+-------------------------+------------+--------------+\n",
      "--------------------------------------------------\n"
     ]
    }
   ],
   "source": [
    "import pandas as pd\n",
    "\n",
    "# Analizar cada archivo\n",
    "for file in csv_files:\n",
    "    print(f\"\\n🔹 Análisis del archivo: {file}\\n\")\n",
    "\n",
    "    # Detectar si es un CSV con delimitador `;`\n",
    "    with open(file, 'r') as f:\n",
    "        first_line = f.readline()\n",
    "        delimiter = ';' if ';' in first_line else ','\n",
    "\n",
    "    # Cargar CSV con el delimitador correcto\n",
    "    df = pd.read_csv(file, delimiter=delimiter)\n",
    "\n",
    "    # Crear DataFrame con nombre de columna, ejemplo de dato y tipo de dato\n",
    "    analysis = pd.DataFrame({\n",
    "        \"Columna\": df.columns,\n",
    "        \"Ejemplo\": df.iloc[0].astype(str),  # Convertimos la primera fila a string\n",
    "        \"Tipo de Dato\": df.dtypes.values\n",
    "    })\n",
    "\n",
    "    # Mostrar tabla en formato más limpio\n",
    "    from tabulate import tabulate\n",
    "    print(tabulate(analysis, headers=\"keys\", tablefmt=\"pretty\"))\n",
    "    print(\"-\" * 50)\n",
    "\n"
   ]
  },
  {
   "cell_type": "markdown",
   "metadata": {},
   "source": [
    "## Crear conexión a base de datos SQLite\n"
   ]
  },
  {
   "cell_type": "code",
   "execution_count": 21,
   "metadata": {},
   "outputs": [],
   "source": [
    "\n",
    "# Crear conexión a base de datos SQLite\n",
    "import sqlite3\n",
    "import os\n",
    "\n",
    "# Borrar la base de datos anterior si existe (opcional pero útil porque sino hay cambios que en vez de pisar los amplia)\n",
    "if os.path.exists(\"cycle_sales.db\"):\n",
    "    os.remove(\"cycle_sales.db\")\n",
    "\n"
   ]
  },
  {
   "cell_type": "code",
   "execution_count": 22,
   "metadata": {},
   "outputs": [],
   "source": [
    "#se crea base limpia\n",
    "\n",
    "conn = sqlite3.connect(\"cycle_sales.db\")\n",
    "cursor = conn.cursor()"
   ]
  },
  {
   "cell_type": "markdown",
   "metadata": {},
   "source": [
    "### CSV TABLES, tiene que ser diccionario, no vale lista"
   ]
  },
  {
   "cell_type": "code",
   "execution_count": 23,
   "metadata": {},
   "outputs": [],
   "source": [
    "csv_tables = {\n",
    "    \"customers_csv.csv\": \"customers_csv\",\n",
    "    \"dim_geography.csv\": \"dim_geography\",\n",
    "    \"dim_product.csv\": \"dim_product\",\n",
    "    \"dim_territory.csv\": \"dim_territory\",\n",
    "    \"fact_sales.csv\": \"fact_sales\"\n",
    "}"
   ]
  },
  {
   "cell_type": "markdown",
   "metadata": {},
   "source": [
    "## Procesar CSVs y guardar en la base de datos como tablas\n"
   ]
  },
  {
   "cell_type": "code",
   "execution_count": null,
   "metadata": {},
   "outputs": [
    {
     "name": "stdout",
     "output_type": "stream",
     "text": [
      "\n",
      "📥 Procesando: customers_csv.csv\n",
      "🧪 Separador detectado para customers_csv.csv: ';'\n",
      "✅ Tabla 'customers_csv' cargada con 1360 registros\n",
      "\n",
      "📥 Procesando: dim_geography.csv\n",
      "🧪 Separador detectado para dim_geography.csv: ','\n",
      "✅ Tabla 'dim_geography' cargada con 654 registros\n",
      "\n",
      "📥 Procesando: dim_product.csv\n",
      "🧪 Separador detectado para dim_product.csv: ','\n",
      "✅ Tabla 'dim_product' cargada con 397 registros\n",
      "\n",
      "📥 Procesando: dim_territory.csv\n",
      "🧪 Separador detectado para dim_territory.csv: ','\n",
      "✅ Tabla 'dim_territory' cargada con 11 registros\n",
      "\n",
      "📥 Procesando: fact_sales.csv\n",
      "🧪 Separador detectado para fact_sales.csv: ','\n",
      "✅ Tabla 'fact_sales' cargada con 5954 registros\n",
      "\n",
      "📦 Base de datos SQLite generada correctamente: cycle_sales.db\n"
     ]
    }
   ],
   "source": [
    "import sqlite3\n",
    "import os\n",
    "from csv import Sniffer\n",
    "\n",
    "\n",
    "# Crear conexión a base de datos SQLite\n",
    "conn = sqlite3.connect(\"cycle_sales.db\")  # asegúrate de usar el mismo nombre si ya lo tienes\n",
    "cursor = conn.cursor()\n",
    "\n",
    "\n",
    "# Función para detectar automáticamente si el CSV usa coma (,) o punto y coma (;)\n",
    "def detectar_separador(file_path):\n",
    "    with open(file_path, 'r', encoding='utf-8') as f:\n",
    "        muestra = f.read(2048)  # Leer una muestra del archivo\n",
    "        return Sniffer().sniff(muestra).delimiter  # Devolver el separador detectado\n",
    "\n",
    "# Crear la conexión a la base de datos SQLite (se guarda como archivo local)\n",
    "conn = sqlite3.connect(\"cycle_sales.db\")\n",
    "cursor = conn.cursor()\n",
    "\n",
    "# Recorrer todos los archivos y sus tablas asociadas\n",
    "for file_name, table_name in csv_tables.items():\n",
    "    if os.path.exists(file_name):\n",
    "        print(f\"\\n📥 Procesando: {file_name}\")\n",
    "        \n",
    "        # Detectar el separador automáticamente\n",
    "        sep = detectar_separador(file_name)\n",
    "        print(f\"🧪 Separador detectado para {file_name}: '{sep}'\")\n",
    "        \n",
    "        # Leer el CSV con el separador correcto\n",
    "        df = pd.read_csv(file_name, sep=sep)\n",
    "\n",
    "        # Limpiar los nombres de columnas: minúsculas, sin espacios, sin caracteres raros\n",
    "        df.columns = [col.lower().strip().replace(\" \", \"_\") for col in df.columns]\n",
    "\n",
    "        # Cargar los datos a la tabla correspondiente en SQLite\n",
    "        df.to_sql(name=table_name, con=conn, if_exists=\"replace\", index=False)\n",
    "\n",
    "        # Contar registros insertados y mostrar\n",
    "        cursor.execute(f\"SELECT COUNT(*) FROM {table_name}\")\n",
    "        row_count = cursor.fetchone()[0]\n",
    "        print(f\"✅ Tabla '{table_name}' cargada con {row_count} registros\")\n",
    "    else:\n",
    "        print(f\"❌ Archivo no encontrado: {file_name}\")\n",
    "\n",
    "# Guardar cambios y cerrar conexión\n",
    "conn.commit()\n",
    "conn.close()\n",
    "\n",
    "print(\"\\n📦 Base de datos SQLite generada correctamente: cycle_sales.db\")"
   ]
  },
  {
   "cell_type": "markdown",
   "metadata": {},
   "source": [
    "# Ahora hacemos un dump para generar el archivo SQLite (en la terminal)"
   ]
  },
  {
   "cell_type": "markdown",
   "metadata": {},
   "source": [
    "sqlite3 cycle_sales.db .dump > cycle_sales_export.sql\n"
   ]
  },
  {
   "cell_type": "markdown",
   "metadata": {},
   "source": [
    "### Limpieza para compatibilidad con MySQL, se genera una segunda versión de SQLite"
   ]
  },
  {
   "cell_type": "code",
   "execution_count": null,
   "metadata": {},
   "outputs": [
    {
     "name": "stdout",
     "output_type": "stream",
     "text": [
      "📄 Codificación detectada: UTF-16\n",
      "✅ Archivo SQL limpio y mejorado guardado como: cycle_sales_export_mysql.sql\n"
     ]
    }
   ],
   "source": [
    "import chardet\n",
    "\n",
    "input_file = \"cycle_sales_export.sql\"\n",
    "output_file = \"cycle_sales_export_mysql.sql\"\n",
    "\n",
    "# Detectar codificación original\n",
    "with open(input_file, 'rb') as f:\n",
    "    raw_data = f.read()\n",
    "    result = chardet.detect(raw_data)\n",
    "    encoding = result['encoding']\n",
    "\n",
    "print(f\"📄 Codificación detectada: {encoding}\")\n",
    "\n",
    "# Decodificar el archivo con la codificación correcta\n",
    "content = raw_data.decode(encoding)\n",
    "\n",
    "# Reemplazos:\n",
    "content = content.replace('\"', '`')  # Comillas para MySQL\n",
    "content = content.replace(\"BEGIN TRANSACTION;\", \"\") # Comandos incompatibles con MySQL\n",
    "content = content.replace(\"COMMIT;\", \"\")\n",
    "\n",
    "# Tipos de datos más adecuados para MySQL\n",
    "content = content.replace(\" TEXT\", \" VARCHAR(255)\")\n",
    "content = content.replace(\"TEXT\", \"VARCHAR(255)\")  # por si hay sin espacio\n",
    "content = content.replace(\"INTEGER\", \"INT\")\n",
    "content = content.replace(\"REAL\", \"FLOAT\")\n",
    "content = content.replace(\"NUMERIC\", \"DECIMAL(10,2)\")\n",
    "\n",
    "# Encabezado para crear y usar la base de datos\n",
    "mysql_header = \"\"\"\n",
    "-- Crear base de datos en MySQL\n",
    "CREATE DATABASE IF NOT EXISTS sales_cycle;\n",
    "USE sales_cycle;\n",
    "\"\"\"\n",
    "\n",
    "# Combinar y guardar\n",
    "final_content = mysql_header.strip() + \"\\n\\n\" + content.strip()\n",
    "\n",
    "with open(output_file, \"w\", encoding=\"utf-8\") as f:\n",
    "    f.write(final_content)\n",
    "\n",
    "print(\"✅ Archivo SQL limpio y mejorado guardado como:\", output_file)\n",
    "\n"
   ]
  },
  {
   "cell_type": "markdown",
   "metadata": {},
   "source": [
    "Ahora se va a MYSQL y se abre el archivo generado"
   ]
  }
 ],
 "metadata": {
  "kernelspec": {
   "display_name": "base",
   "language": "python",
   "name": "python3"
  },
  "language_info": {
   "codemirror_mode": {
    "name": "ipython",
    "version": 3
   },
   "file_extension": ".py",
   "mimetype": "text/x-python",
   "name": "python",
   "nbconvert_exporter": "python",
   "pygments_lexer": "ipython3",
   "version": "3.12.7"
  }
 },
 "nbformat": 4,
 "nbformat_minor": 2
}
