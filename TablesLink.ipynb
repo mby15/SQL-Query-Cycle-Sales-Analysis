{
 "cells": [
  {
   "cell_type": "markdown",
   "metadata": {},
   "source": [
    "Tenemos los CSV, vamos a lanzar consultas en SQL, por lo que crearemos una Base de Datos, pasaremos los CSVs a \n",
    "tablas dentro de la Base de Datos y así podremos lanzar consultas"
   ]
  },
  {
   "cell_type": "code",
   "execution_count": 14,
   "metadata": {},
   "outputs": [],
   "source": [
    "# Importar las bibliotecas necesarias\n",
    "import pandas as pd  # Para manejar archivos CSV y bases de datos\n",
    "import sqlite3  # Para interactuar con SQLite\n",
    "import os  # Para comprobar la existencia de archivos"
   ]
  },
  {
   "cell_type": "markdown",
   "metadata": {},
   "source": [
    "# 1. Conectar o crear la base de datos SQLite"
   ]
  },
  {
   "cell_type": "code",
   "execution_count": 15,
   "metadata": {},
   "outputs": [
    {
     "name": "stdout",
     "output_type": "stream",
     "text": [
      "Conexión establecida con la base de datos.\n"
     ]
    }
   ],
   "source": [
    "\n",
    "# Si el archivo 'sales_data.db' no existe, SQLite lo creará automáticamente\n",
    "conn = sqlite3.connect(\"sales_data.db\")\n",
    "print(\"Conexión establecida con la base de datos.\")"
   ]
  },
  {
   "cell_type": "markdown",
   "metadata": {},
   "source": [
    "# 2. Definir los archivos CSV y los nombres de las tablas correspondientes y cargarlos a tablas"
   ]
  },
  {
   "cell_type": "code",
   "execution_count": 16,
   "metadata": {},
   "outputs": [
    {
     "name": "stdout",
     "output_type": "stream",
     "text": [
      "El archivo 'customers.csv' no se encontró. Verifica su nombre y ubicación.\n",
      "Tabla 'dim_customer' cargada correctamente con 1360 registros.\n",
      "Tabla 'dim_geography' cargada correctamente con 654 registros.\n",
      "Tabla 'dim_product' cargada correctamente con 397 registros.\n",
      "Tabla 'dim_territory' cargada correctamente con 11 registros.\n",
      "Tabla 'fact_sales' cargada correctamente con 5954 registros.\n"
     ]
    }
   ],
   "source": [
    "\n",
    "# Creamos un diccionario donde la clave es el nombre de la tabla en la base de datos\n",
    "# y el valor es el nombre del archivo CSV\n",
    "csv_files = {\n",
    "    \"customers\": \"customers.csv\",\n",
    "    \"dim_customer\": \"dim_customer.csv\",\n",
    "    \"dim_geography\": \"dim_geography.csv\",\n",
    "    \"dim_product\": \"dim_product.csv\",\n",
    "    \"dim_territory\": \"dim_territory.csv\",\n",
    "    \"fact_sales\": \"fact_sales.csv\"\n",
    "}\n",
    "\n",
    "# Cargar cada archivo CSV en su tabla correspondiente en SQLite\n",
    "for table_name, file_name in csv_files.items():\n",
    "    if os.path.exists(file_name):  # Verificamos que el archivo exista\n",
    "        df = pd.read_csv(file_name)  # Leer el archivo CSV en un DataFrame\n",
    "        df.to_sql(table_name, conn, if_exists=\"replace\", index=False)  # Guardar en SQLite\n",
    "        print(f\"Tabla '{table_name}' cargada correctamente con {len(df)} registros.\")\n",
    "    else:\n",
    "        print(f\"El archivo '{file_name}' no se encontró. Verifica su nombre y ubicación.\")"
   ]
  },
  {
   "cell_type": "markdown",
   "metadata": {},
   "source": [
    "# 4. Verificar la carga de datos mostrando la cantidad de registros en cada tabla"
   ]
  },
  {
   "cell_type": "code",
   "execution_count": 17,
   "metadata": {},
   "outputs": [
    {
     "name": "stdout",
     "output_type": "stream",
     "text": [
      "\n",
      "Resumen de la carga de datos:\n",
      "La tabla 'customers' tiene 1360 registros.\n",
      "La tabla 'dim_customer' tiene 1360 registros.\n",
      "La tabla 'dim_geography' tiene 654 registros.\n",
      "La tabla 'dim_product' tiene 397 registros.\n",
      "La tabla 'dim_territory' tiene 11 registros.\n",
      "La tabla 'fact_sales' tiene 5954 registros.\n"
     ]
    }
   ],
   "source": [
    "print(\"\\nResumen de la carga de datos:\")\n",
    "for table_name in csv_files.keys():\n",
    "    query = f\"SELECT COUNT(*) FROM {table_name};\"\n",
    "    result = pd.read_sql_query(query, conn)\n",
    "    print(f\"La tabla '{table_name}' tiene {result.iloc[0, 0]} registros.\")"
   ]
  }
 ],
 "metadata": {
  "kernelspec": {
   "display_name": "base",
   "language": "python",
   "name": "python3"
  },
  "language_info": {
   "codemirror_mode": {
    "name": "ipython",
    "version": 3
   },
   "file_extension": ".py",
   "mimetype": "text/x-python",
   "name": "python",
   "nbconvert_exporter": "python",
   "pygments_lexer": "ipython3",
   "version": "3.12.7"
  }
 },
 "nbformat": 4,
 "nbformat_minor": 2
}
